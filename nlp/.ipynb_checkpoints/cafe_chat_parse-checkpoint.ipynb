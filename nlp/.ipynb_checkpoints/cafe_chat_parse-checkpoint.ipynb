{
 "cells": [
  {
   "cell_type": "code",
   "execution_count": 1,
   "metadata": {
    "collapsed": false
   },
   "outputs": [],
   "source": [
    "import konlpy\n",
    "import nltk\n",
    "import numpy as np\n",
    "import re \n",
    "from dictionary import CafeDictionary"
   ]
  },
  {
   "cell_type": "code",
   "execution_count": 2,
   "metadata": {
    "collapsed": false
   },
   "outputs": [
    {
     "name": "stdout",
     "output_type": "stream",
     "text": [
      "2\n",
      "9\n"
     ]
    }
   ],
   "source": []
  },
  {
   "cell_type": "code",
   "execution_count": 15,
   "metadata": {
    "collapsed": false
   },
   "outputs": [
    {
     "name": "stdout",
     "output_type": "stream",
     "text": [
      "g\n",
      "c\n",
      "g\n",
      "c\n",
      "['g', 'c', 'g', 'c']\n",
      "['\\xec\\x98\\xa4\\xeb\\xa5\\xb4\\xec\\xa1\\xb0 \\xec\\xbd\\x94\\xec\\xbd\\x94\\xec\\x95\\x84 \\xec\\x95\\x84\\xec\\x9d\\xb4\\xec\\x8a\\xa4\\xeb\\xa1\\x9c \\xeb\\x91\\x90 \\xea\\xb0\\x9c \\xec\\xa3\\xbc\\xec\\x84\\xb8\\xec\\x9a\\x94\\n', '4000\\xec\\x9b\\x90\\xec\\x9e\\x85\\xeb\\x8b\\x88\\xeb\\x8b\\xa4\\n', '\\xec\\x97\\xac\\xea\\xb8\\xb0\\xec\\x9a\\x94\\n', '\\xea\\xb0\\x90\\xec\\x82\\xac\\xed\\x95\\xa9\\xeb\\x8b\\x88\\xeb\\x8b\\xa4']\n"
     ]
    }
   ],
   "source": []
  },
  {
   "cell_type": "code",
   "execution_count": null,
   "metadata": {
    "collapsed": true
   },
   "outputs": [],
   "source": []
  }
 ],
 "metadata": {
  "kernelspec": {
   "display_name": "Python 2",
   "language": "python",
   "name": "python2"
  },
  "language_info": {
   "codemirror_mode": {
    "name": "ipython",
    "version": 2
   },
   "file_extension": ".py",
   "mimetype": "text/x-python",
   "name": "python",
   "nbconvert_exporter": "python",
   "pygments_lexer": "ipython2",
   "version": "2.7.6"
  }
 },
 "nbformat": 4,
 "nbformat_minor": 0
}
