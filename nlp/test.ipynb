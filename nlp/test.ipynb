{
 "cells": [
  {
   "cell_type": "code",
   "execution_count": 1,
   "metadata": {
    "collapsed": true
   },
   "outputs": [],
   "source": [
    "import konlpy\n",
    "import nltk\n",
    "\n"
   ]
  },
  {
   "cell_type": "code",
   "execution_count": 4,
   "metadata": {
    "collapsed": false
   },
   "outputs": [
    {
     "name": "stdout",
     "output_type": "stream",
     "text": [
      "네 Noun\n",
      "진주 Noun\n",
      "자스민 Noun\n",
      "이랑 Josa\n",
      "카모마일 Noun\n",
      "이랑 Josa\n",
      "루이보스 Noun\n",
      "티 Noun\n",
      "요 Josa\n"
     ]
    }
   ],
   "source": [
    "# POS tag a sentence\n",
    "sentence = u'네 진주 자스민이랑 카모마일이랑 루이보스티요'\n",
    "words = konlpy.tag.Twitter().pos(sentence)\n",
    "\n",
    "for pair in words:\n",
    "    print pair[0], pair[1]"
   ]
  },
  {
   "cell_type": "code",
   "execution_count": null,
   "metadata": {
    "collapsed": true
   },
   "outputs": [],
   "source": []
  }
 ],
 "metadata": {
  "kernelspec": {
   "display_name": "Python 2",
   "language": "python",
   "name": "python2"
  },
  "language_info": {
   "codemirror_mode": {
    "name": "ipython",
    "version": 2
   },
   "file_extension": ".py",
   "mimetype": "text/x-python",
   "name": "python",
   "nbconvert_exporter": "python",
   "pygments_lexer": "ipython2",
   "version": "2.7.6"
  }
 },
 "nbformat": 4,
 "nbformat_minor": 0
}
